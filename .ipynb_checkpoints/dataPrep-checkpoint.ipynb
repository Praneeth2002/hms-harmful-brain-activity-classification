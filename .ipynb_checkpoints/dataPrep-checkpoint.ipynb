{
 "cells": [
  {
   "cell_type": "code",
   "execution_count": 14,
   "id": "initial_id",
   "metadata": {
    "collapsed": true,
    "ExecuteTime": {
     "end_time": "2024-02-19T01:11:56.012877800Z",
     "start_time": "2024-02-19T01:11:55.848016800Z"
    }
   },
   "outputs": [],
   "source": [
    "import pyarrow.parquet as pq\n",
    "import pandas as pd\n",
    "import numpy as np\n",
    "import matplotlib.pyplot as plt\n",
    "import seaborn as sns\n",
    "import sweetviz as sv"
   ]
  },
  {
   "cell_type": "code",
   "execution_count": 2,
   "outputs": [
    {
     "name": "stdout",
     "output_type": "stream",
     "text": [
      "(106800, 15)\n"
     ]
    },
    {
     "data": {
      "text/plain": "       eeg_id  eeg_sub_id  eeg_label_offset_seconds  spectrogram_id  \\\n0  1628180742           0                       0.0          353733   \n1  1628180742           1                       6.0          353733   \n2  1628180742           2                       8.0          353733   \n3  1628180742           3                      18.0          353733   \n4  1628180742           4                      24.0          353733   \n\n   spectrogram_sub_id  spectrogram_label_offset_seconds    label_id  \\\n0                   0                               0.0   127492639   \n1                   1                               6.0  3887563113   \n2                   2                               8.0  1142670488   \n3                   3                              18.0  2718991173   \n4                   4                              24.0  3080632009   \n\n   patient_id expert_consensus  seizure_vote  lpd_vote  gpd_vote  lrda_vote  \\\n0       42516          Seizure             3         0         0          0   \n1       42516          Seizure             3         0         0          0   \n2       42516          Seizure             3         0         0          0   \n3       42516          Seizure             3         0         0          0   \n4       42516          Seizure             3         0         0          0   \n\n   grda_vote  other_vote  \n0          0           0  \n1          0           0  \n2          0           0  \n3          0           0  \n4          0           0  ",
      "text/html": "<div>\n<style scoped>\n    .dataframe tbody tr th:only-of-type {\n        vertical-align: middle;\n    }\n\n    .dataframe tbody tr th {\n        vertical-align: top;\n    }\n\n    .dataframe thead th {\n        text-align: right;\n    }\n</style>\n<table border=\"1\" class=\"dataframe\">\n  <thead>\n    <tr style=\"text-align: right;\">\n      <th></th>\n      <th>eeg_id</th>\n      <th>eeg_sub_id</th>\n      <th>eeg_label_offset_seconds</th>\n      <th>spectrogram_id</th>\n      <th>spectrogram_sub_id</th>\n      <th>spectrogram_label_offset_seconds</th>\n      <th>label_id</th>\n      <th>patient_id</th>\n      <th>expert_consensus</th>\n      <th>seizure_vote</th>\n      <th>lpd_vote</th>\n      <th>gpd_vote</th>\n      <th>lrda_vote</th>\n      <th>grda_vote</th>\n      <th>other_vote</th>\n    </tr>\n  </thead>\n  <tbody>\n    <tr>\n      <th>0</th>\n      <td>1628180742</td>\n      <td>0</td>\n      <td>0.0</td>\n      <td>353733</td>\n      <td>0</td>\n      <td>0.0</td>\n      <td>127492639</td>\n      <td>42516</td>\n      <td>Seizure</td>\n      <td>3</td>\n      <td>0</td>\n      <td>0</td>\n      <td>0</td>\n      <td>0</td>\n      <td>0</td>\n    </tr>\n    <tr>\n      <th>1</th>\n      <td>1628180742</td>\n      <td>1</td>\n      <td>6.0</td>\n      <td>353733</td>\n      <td>1</td>\n      <td>6.0</td>\n      <td>3887563113</td>\n      <td>42516</td>\n      <td>Seizure</td>\n      <td>3</td>\n      <td>0</td>\n      <td>0</td>\n      <td>0</td>\n      <td>0</td>\n      <td>0</td>\n    </tr>\n    <tr>\n      <th>2</th>\n      <td>1628180742</td>\n      <td>2</td>\n      <td>8.0</td>\n      <td>353733</td>\n      <td>2</td>\n      <td>8.0</td>\n      <td>1142670488</td>\n      <td>42516</td>\n      <td>Seizure</td>\n      <td>3</td>\n      <td>0</td>\n      <td>0</td>\n      <td>0</td>\n      <td>0</td>\n      <td>0</td>\n    </tr>\n    <tr>\n      <th>3</th>\n      <td>1628180742</td>\n      <td>3</td>\n      <td>18.0</td>\n      <td>353733</td>\n      <td>3</td>\n      <td>18.0</td>\n      <td>2718991173</td>\n      <td>42516</td>\n      <td>Seizure</td>\n      <td>3</td>\n      <td>0</td>\n      <td>0</td>\n      <td>0</td>\n      <td>0</td>\n      <td>0</td>\n    </tr>\n    <tr>\n      <th>4</th>\n      <td>1628180742</td>\n      <td>4</td>\n      <td>24.0</td>\n      <td>353733</td>\n      <td>4</td>\n      <td>24.0</td>\n      <td>3080632009</td>\n      <td>42516</td>\n      <td>Seizure</td>\n      <td>3</td>\n      <td>0</td>\n      <td>0</td>\n      <td>0</td>\n      <td>0</td>\n      <td>0</td>\n    </tr>\n  </tbody>\n</table>\n</div>"
     },
     "execution_count": 2,
     "metadata": {},
     "output_type": "execute_result"
    }
   ],
   "source": [
    "train = pd.read_csv('train.csv')\n",
    "print(train.shape)\n",
    "train.head()"
   ],
   "metadata": {
    "collapsed": false,
    "ExecuteTime": {
     "end_time": "2024-02-19T00:49:46.846808600Z",
     "start_time": "2024-02-19T00:49:46.697839400Z"
    }
   },
   "id": "fb171b379312b6e4"
  },
  {
   "cell_type": "code",
   "execution_count": 6,
   "outputs": [
    {
     "data": {
      "text/plain": "pyarrow.Table\nFp1: float\nF3: float\nC3: float\nP3: float\nF7: float\nT3: float\nT5: float\nO1: float\nFz: float\nCz: float\nPz: float\nFp2: float\nF4: float\nC4: float\nP4: float\nF8: float\nT4: float\nT6: float\nO2: float\nEKG: float\n----\nFp1: [[-80.52,-80.45,-80.21,-84.71,-90.57,...,-144.66,-140.88,-133.73,-141.45,-138.67]]\nF3: [[-70.54,-70.33,-75.87,-75.34,-80.79,...,-147.81,-153,-141.77,-151.14,-147.21]]\nC3: [[-80.11,-81.76,-82.05,-87.48,-93,...,-129.82,-129.53,-121.9,-127.19,-122.82]]\nP3: [[-108.75,-107.67,-106.01,-108.97,-113.87,...,-129.46,-129.02,-122.37,-128.7,-128.29]]\nF7: [[-120.33,-120.77,-117.5,-121.41,-129.96,...,-157.51,-154.06,-158.75,-163.46,-164.87]]\nT3: [[-88.62,-90.82,-87.49,-94.75,-102.86,...,-124,-131.22,-123.55,-124.31,-124.24]]\nT5: [[-101.75,-104.26,-99.59,-105.37,-118.6,...,-124.57,-128.38,-127.73,-129.48,-129.34]]\nO1: [[-104.49,-99.73,-96.82,-100.28,-101.1,...,-94.82,-95,-93.09,-94.42,-95.32]]\nFz: [[-99.13,-99.07,-119.68,-113.84,-107.66,...,-153.07,-140.82,-125.23,-140.87,-136.79]]\nCz: [[-90.39,-92.29,-99.36,-102.06,-102.34,...,-121.11,-114.64,-106.49,-113.34,-112.82]]\n..."
     },
     "execution_count": 6,
     "metadata": {},
     "output_type": "execute_result"
    }
   ],
   "source": [
    "#example eeg = 1628180742\n",
    "sample_table = pq.read_table('C:/Users/kakka/PycharmProjects/ProjectM/HMS-DL/train_eegs/1628180742.parquet')\n",
    "sample_table"
   ],
   "metadata": {
    "collapsed": false,
    "ExecuteTime": {
     "end_time": "2024-02-19T00:56:32.501773700Z",
     "start_time": "2024-02-19T00:56:32.457360700Z"
    }
   },
   "id": "faa9a9adaf0b8dd7"
  },
  {
   "cell_type": "code",
   "execution_count": 7,
   "outputs": [
    {
     "data": {
      "text/plain": "              Fp1          F3          C3          P3          F7          T3  \\\n0      -80.519997  -70.540001  -80.110001 -108.750000 -120.330002  -88.620003   \n1      -80.449997  -70.330002  -81.760002 -107.669998 -120.769997  -90.820000   \n2      -80.209999  -75.870003  -82.050003 -106.010002 -117.500000  -87.489998   \n3      -84.709999  -75.339996  -87.480003 -108.970001 -121.410004  -94.750000   \n4      -90.570000  -80.790001  -93.000000 -113.870003 -129.960007 -102.860001   \n...           ...         ...         ...         ...         ...         ...   \n17995 -144.660004 -147.809998 -129.820007 -129.460007 -157.509995 -124.000000   \n17996 -140.880005 -153.000000 -129.529999 -129.020004 -154.059998 -131.220001   \n17997 -133.729996 -141.770004 -121.900002 -122.370003 -158.750000 -123.550003   \n17998 -141.449997 -151.139999 -127.190002 -128.699997 -163.460007 -124.309998   \n17999 -138.669998 -147.210007 -122.820000 -128.289993 -164.869995 -124.239998   \n\n               T5          O1          Fz          Cz         Pz         Fp2  \\\n0     -101.750000 -104.489998  -99.129997  -90.389999 -97.040001  -77.989998   \n1     -104.260002  -99.730003  -99.070000  -92.290001 -96.019997  -84.500000   \n2      -99.589996  -96.820000 -119.680000  -99.360001 -91.110001  -99.440002   \n3     -105.370003 -100.279999 -113.839996 -102.059998 -95.040001  -99.230003   \n4     -118.599998 -101.099998 -107.660004 -102.339996 -98.510002  -95.300003   \n...           ...         ...         ...         ...        ...         ...   \n17995 -124.570000  -94.820000 -153.070007 -121.110001 -86.459999 -132.520004   \n17996 -128.380005  -95.000000 -140.820007 -114.639999 -84.379997 -115.339996   \n17997 -127.730003  -93.089996 -125.230003 -106.489998 -83.419998 -112.720001   \n17998 -129.479996  -94.419998 -140.869995 -113.339996 -83.519997 -129.300003   \n17999 -129.339996  -95.320000 -136.789993 -112.820000 -84.660004 -129.380005   \n\n               F4          C4          P4          F8         T4          T6  \\\n0      -88.830002 -112.120003 -108.110001  -95.949997 -98.360001 -121.730003   \n1      -84.989998 -115.610001 -103.860001  -97.470001 -89.290001 -115.500000   \n2     -104.589996 -127.529999 -113.349998  -95.870003 -96.019997 -123.879997   \n3     -101.220001 -125.769997 -111.889999  -97.459999 -97.180000 -128.940002   \n4      -88.930000 -115.639999  -99.800003  -97.500000 -88.730003 -114.849998   \n...           ...         ...         ...         ...        ...         ...   \n17995 -138.339996 -128.970001  -71.300003 -114.480003 -86.709999 -114.959999   \n17996 -119.230003 -114.709999  -70.989998  -92.129997 -79.639999 -116.139999   \n17997 -103.209999 -107.629997  -61.869999  -97.910004 -77.150002 -106.500000   \n17998 -118.650002 -117.589996  -71.879997  -99.279999 -83.900002 -116.160004   \n17999 -123.180000 -122.889999  -79.910004 -101.459999 -84.339996 -125.989998   \n\n               O2        EKG  \n0     -106.449997   7.920000  \n1     -102.059998  29.219999  \n2     -105.790001  45.740002  \n3     -109.889999  83.870003  \n4     -100.250000  97.769997  \n...           ...        ...  \n17995  -81.500000 -20.070000  \n17996  -81.879997  10.600000  \n17997  -75.339996  -2.060000  \n17998  -81.410004   2.820000  \n17999  -89.110001  35.279999  \n\n[18000 rows x 20 columns]",
      "text/html": "<div>\n<style scoped>\n    .dataframe tbody tr th:only-of-type {\n        vertical-align: middle;\n    }\n\n    .dataframe tbody tr th {\n        vertical-align: top;\n    }\n\n    .dataframe thead th {\n        text-align: right;\n    }\n</style>\n<table border=\"1\" class=\"dataframe\">\n  <thead>\n    <tr style=\"text-align: right;\">\n      <th></th>\n      <th>Fp1</th>\n      <th>F3</th>\n      <th>C3</th>\n      <th>P3</th>\n      <th>F7</th>\n      <th>T3</th>\n      <th>T5</th>\n      <th>O1</th>\n      <th>Fz</th>\n      <th>Cz</th>\n      <th>Pz</th>\n      <th>Fp2</th>\n      <th>F4</th>\n      <th>C4</th>\n      <th>P4</th>\n      <th>F8</th>\n      <th>T4</th>\n      <th>T6</th>\n      <th>O2</th>\n      <th>EKG</th>\n    </tr>\n  </thead>\n  <tbody>\n    <tr>\n      <th>0</th>\n      <td>-80.519997</td>\n      <td>-70.540001</td>\n      <td>-80.110001</td>\n      <td>-108.750000</td>\n      <td>-120.330002</td>\n      <td>-88.620003</td>\n      <td>-101.750000</td>\n      <td>-104.489998</td>\n      <td>-99.129997</td>\n      <td>-90.389999</td>\n      <td>-97.040001</td>\n      <td>-77.989998</td>\n      <td>-88.830002</td>\n      <td>-112.120003</td>\n      <td>-108.110001</td>\n      <td>-95.949997</td>\n      <td>-98.360001</td>\n      <td>-121.730003</td>\n      <td>-106.449997</td>\n      <td>7.920000</td>\n    </tr>\n    <tr>\n      <th>1</th>\n      <td>-80.449997</td>\n      <td>-70.330002</td>\n      <td>-81.760002</td>\n      <td>-107.669998</td>\n      <td>-120.769997</td>\n      <td>-90.820000</td>\n      <td>-104.260002</td>\n      <td>-99.730003</td>\n      <td>-99.070000</td>\n      <td>-92.290001</td>\n      <td>-96.019997</td>\n      <td>-84.500000</td>\n      <td>-84.989998</td>\n      <td>-115.610001</td>\n      <td>-103.860001</td>\n      <td>-97.470001</td>\n      <td>-89.290001</td>\n      <td>-115.500000</td>\n      <td>-102.059998</td>\n      <td>29.219999</td>\n    </tr>\n    <tr>\n      <th>2</th>\n      <td>-80.209999</td>\n      <td>-75.870003</td>\n      <td>-82.050003</td>\n      <td>-106.010002</td>\n      <td>-117.500000</td>\n      <td>-87.489998</td>\n      <td>-99.589996</td>\n      <td>-96.820000</td>\n      <td>-119.680000</td>\n      <td>-99.360001</td>\n      <td>-91.110001</td>\n      <td>-99.440002</td>\n      <td>-104.589996</td>\n      <td>-127.529999</td>\n      <td>-113.349998</td>\n      <td>-95.870003</td>\n      <td>-96.019997</td>\n      <td>-123.879997</td>\n      <td>-105.790001</td>\n      <td>45.740002</td>\n    </tr>\n    <tr>\n      <th>3</th>\n      <td>-84.709999</td>\n      <td>-75.339996</td>\n      <td>-87.480003</td>\n      <td>-108.970001</td>\n      <td>-121.410004</td>\n      <td>-94.750000</td>\n      <td>-105.370003</td>\n      <td>-100.279999</td>\n      <td>-113.839996</td>\n      <td>-102.059998</td>\n      <td>-95.040001</td>\n      <td>-99.230003</td>\n      <td>-101.220001</td>\n      <td>-125.769997</td>\n      <td>-111.889999</td>\n      <td>-97.459999</td>\n      <td>-97.180000</td>\n      <td>-128.940002</td>\n      <td>-109.889999</td>\n      <td>83.870003</td>\n    </tr>\n    <tr>\n      <th>4</th>\n      <td>-90.570000</td>\n      <td>-80.790001</td>\n      <td>-93.000000</td>\n      <td>-113.870003</td>\n      <td>-129.960007</td>\n      <td>-102.860001</td>\n      <td>-118.599998</td>\n      <td>-101.099998</td>\n      <td>-107.660004</td>\n      <td>-102.339996</td>\n      <td>-98.510002</td>\n      <td>-95.300003</td>\n      <td>-88.930000</td>\n      <td>-115.639999</td>\n      <td>-99.800003</td>\n      <td>-97.500000</td>\n      <td>-88.730003</td>\n      <td>-114.849998</td>\n      <td>-100.250000</td>\n      <td>97.769997</td>\n    </tr>\n    <tr>\n      <th>...</th>\n      <td>...</td>\n      <td>...</td>\n      <td>...</td>\n      <td>...</td>\n      <td>...</td>\n      <td>...</td>\n      <td>...</td>\n      <td>...</td>\n      <td>...</td>\n      <td>...</td>\n      <td>...</td>\n      <td>...</td>\n      <td>...</td>\n      <td>...</td>\n      <td>...</td>\n      <td>...</td>\n      <td>...</td>\n      <td>...</td>\n      <td>...</td>\n      <td>...</td>\n    </tr>\n    <tr>\n      <th>17995</th>\n      <td>-144.660004</td>\n      <td>-147.809998</td>\n      <td>-129.820007</td>\n      <td>-129.460007</td>\n      <td>-157.509995</td>\n      <td>-124.000000</td>\n      <td>-124.570000</td>\n      <td>-94.820000</td>\n      <td>-153.070007</td>\n      <td>-121.110001</td>\n      <td>-86.459999</td>\n      <td>-132.520004</td>\n      <td>-138.339996</td>\n      <td>-128.970001</td>\n      <td>-71.300003</td>\n      <td>-114.480003</td>\n      <td>-86.709999</td>\n      <td>-114.959999</td>\n      <td>-81.500000</td>\n      <td>-20.070000</td>\n    </tr>\n    <tr>\n      <th>17996</th>\n      <td>-140.880005</td>\n      <td>-153.000000</td>\n      <td>-129.529999</td>\n      <td>-129.020004</td>\n      <td>-154.059998</td>\n      <td>-131.220001</td>\n      <td>-128.380005</td>\n      <td>-95.000000</td>\n      <td>-140.820007</td>\n      <td>-114.639999</td>\n      <td>-84.379997</td>\n      <td>-115.339996</td>\n      <td>-119.230003</td>\n      <td>-114.709999</td>\n      <td>-70.989998</td>\n      <td>-92.129997</td>\n      <td>-79.639999</td>\n      <td>-116.139999</td>\n      <td>-81.879997</td>\n      <td>10.600000</td>\n    </tr>\n    <tr>\n      <th>17997</th>\n      <td>-133.729996</td>\n      <td>-141.770004</td>\n      <td>-121.900002</td>\n      <td>-122.370003</td>\n      <td>-158.750000</td>\n      <td>-123.550003</td>\n      <td>-127.730003</td>\n      <td>-93.089996</td>\n      <td>-125.230003</td>\n      <td>-106.489998</td>\n      <td>-83.419998</td>\n      <td>-112.720001</td>\n      <td>-103.209999</td>\n      <td>-107.629997</td>\n      <td>-61.869999</td>\n      <td>-97.910004</td>\n      <td>-77.150002</td>\n      <td>-106.500000</td>\n      <td>-75.339996</td>\n      <td>-2.060000</td>\n    </tr>\n    <tr>\n      <th>17998</th>\n      <td>-141.449997</td>\n      <td>-151.139999</td>\n      <td>-127.190002</td>\n      <td>-128.699997</td>\n      <td>-163.460007</td>\n      <td>-124.309998</td>\n      <td>-129.479996</td>\n      <td>-94.419998</td>\n      <td>-140.869995</td>\n      <td>-113.339996</td>\n      <td>-83.519997</td>\n      <td>-129.300003</td>\n      <td>-118.650002</td>\n      <td>-117.589996</td>\n      <td>-71.879997</td>\n      <td>-99.279999</td>\n      <td>-83.900002</td>\n      <td>-116.160004</td>\n      <td>-81.410004</td>\n      <td>2.820000</td>\n    </tr>\n    <tr>\n      <th>17999</th>\n      <td>-138.669998</td>\n      <td>-147.210007</td>\n      <td>-122.820000</td>\n      <td>-128.289993</td>\n      <td>-164.869995</td>\n      <td>-124.239998</td>\n      <td>-129.339996</td>\n      <td>-95.320000</td>\n      <td>-136.789993</td>\n      <td>-112.820000</td>\n      <td>-84.660004</td>\n      <td>-129.380005</td>\n      <td>-123.180000</td>\n      <td>-122.889999</td>\n      <td>-79.910004</td>\n      <td>-101.459999</td>\n      <td>-84.339996</td>\n      <td>-125.989998</td>\n      <td>-89.110001</td>\n      <td>35.279999</td>\n    </tr>\n  </tbody>\n</table>\n<p>18000 rows × 20 columns</p>\n</div>"
     },
     "execution_count": 7,
     "metadata": {},
     "output_type": "execute_result"
    }
   ],
   "source": [
    "sample_df = sample_table.to_pandas()\n",
    "sample_df"
   ],
   "metadata": {
    "collapsed": false,
    "ExecuteTime": {
     "end_time": "2024-02-19T00:57:00.229559800Z",
     "start_time": "2024-02-19T00:57:00.192554400Z"
    }
   },
   "id": "34c7c404086b409"
  },
  {
   "cell_type": "code",
   "execution_count": 16,
   "outputs": [
    {
     "data": {
      "text/plain": "                                             |          | [  0%]   00:00 -> (? left)",
      "application/vnd.jupyter.widget-view+json": {
       "version_major": 2,
       "version_minor": 0,
       "model_id": "5d5bf4c655d84d7e8091a7b8e92476ae"
      }
     },
     "metadata": {},
     "output_type": "display_data"
    },
    {
     "name": "stdout",
     "output_type": "stream",
     "text": [
      "Report Advertising.html was generated! NOTEBOOK/COLAB USERS: the web browser MAY not pop up, regardless, the report IS saved in your notebook/colab files.\n"
     ]
    }
   ],
   "source": [
    "report = sv.analyze(sample_df)\n",
    "report.show_html('Advertising.html')"
   ],
   "metadata": {
    "collapsed": false,
    "ExecuteTime": {
     "end_time": "2024-02-19T01:12:24.562134900Z",
     "start_time": "2024-02-19T01:12:16.297640300Z"
    }
   },
   "id": "28c8aaab6a18fa3f"
  },
  {
   "cell_type": "code",
   "execution_count": 18,
   "outputs": [
    {
     "data": {
      "text/plain": "pyarrow.Table\ntime: int64\nLL_0.59: float\nLL_0.78: float\nLL_0.98: float\nLL_1.17: float\nLL_1.37: float\nLL_1.56: float\nLL_1.76: float\nLL_1.95: float\nLL_2.15: float\nLL_2.34: float\nLL_2.54: float\nLL_2.73: float\nLL_2.93: float\nLL_3.13: float\nLL_3.32: float\nLL_3.52: float\nLL_3.71: float\nLL_3.91: float\nLL_4.1: float\nLL_4.3: float\nLL_4.49: float\nLL_4.69: float\nLL_4.88: float\nLL_5.08: float\nLL_5.27: float\nLL_5.47: float\nLL_5.66: float\nLL_5.86: float\nLL_6.05: float\nLL_6.25: float\nLL_6.45: float\nLL_6.64: float\nLL_6.84: float\nLL_7.03: float\nLL_7.23: float\nLL_7.42: float\nLL_7.62: float\nLL_7.81: float\nLL_8.01: float\nLL_8.2: float\nLL_8.4: float\nLL_8.59: float\nLL_8.79: float\nLL_8.98: float\nLL_9.18: float\nLL_9.38: float\nLL_9.57: float\nLL_9.77: float\nLL_9.96: float\nLL_10.16: float\nLL_10.35: float\nLL_10.55: float\nLL_10.74: float\nLL_10.94: float\nLL_11.13: float\nLL_11.33: float\nLL_11.52: float\nLL_11.72: float\nLL_11.91: float\nLL_12.11: float\nLL_12.3: float\nLL_12.5: float\nLL_12.7: float\nLL_12.89: float\nLL_13.09: float\nLL_13.28: float\nLL_13.48: float\nLL_13.67: float\nLL_13.87: float\nLL_14.06: float\nLL_14.26: float\nLL_14.45: float\nLL_14.65: float\nLL_14.84: float\nLL_15.04: float\nLL_15.23: float\nLL_15.43: float\nLL_15.63: float\nLL_15.82: float\nLL_16.02: float\nLL_16.21: float\nLL_16.41: float\nLL_16.6: float\nLL_16.8: float\nLL_16.99: float\nLL_17.19: float\nLL_17.38: float\nLL_17.58: float\nLL_17.77: float\nLL_17.97: float\nLL_18.16: float\nLL_18.36: float\nLL_18.55: float\nLL_18.75: float\nLL_18.95: float\nLL_19.14: float\nLL_19.34: float\nLL_19.53: float\nLL_19.73: float\nLL_19.92: float\nRL_0.59: float\nRL_0.78: float\nRL_0.98: float\nRL_1.17: float\nRL_1.37: float\nRL_1.56: float\nRL_1.76: float\nRL_1.95: float\nRL_2.15: float\nRL_2.34: float\nRL_2.54: float\nRL_2.73: float\nRL_2.93: float\nRL_3.13: float\nRL_3.32: float\nRL_3.52: float\nRL_3.71: float\nRL_3.91: float\nRL_4.1: float\nRL_4.3: float\nRL_4.49: float\nRL_4.69: float\nRL_4.88: float\nRL_5.08: float\nRL_5.27: float\nRL_5.47: float\nRL_5.66: float\nRL_5.86: float\nRL_6.05: float\nRL_6.25: float\nRL_6.45: float\nRL_6.64: float\nRL_6.84: float\nRL_7.03: float\nRL_7.23: float\nRL_7.42: float\nRL_7.62: float\nRL_7.81: float\nRL_8.01: float\nRL_8.2: float\nRL_8.4: float\nRL_8.59: float\nRL_8.79: float\nRL_8.98: float\nRL_9.18: float\nRL_9.38: float\nRL_9.57: float\nRL_9.77: float\nRL_9.96: float\nRL_10.16: float\nRL_10.35: float\nRL_10.55: float\nRL_10.74: float\nRL_10.94: float\nRL_11.13: float\nRL_11.33: float\nRL_11.52: float\nRL_11.72: float\nRL_11.91: float\nRL_12.11: float\nRL_12.3: float\nRL_12.5: float\nRL_12.7: float\nRL_12.89: float\nRL_13.09: float\nRL_13.28: float\nRL_13.48: float\nRL_13.67: float\nRL_13.87: float\nRL_14.06: float\nRL_14.26: float\nRL_14.45: float\nRL_14.65: float\nRL_14.84: float\nRL_15.04: float\nRL_15.23: float\nRL_15.43: float\nRL_15.63: float\nRL_15.82: float\nRL_16.02: float\nRL_16.21: float\nRL_16.41: float\nRL_16.6: float\nRL_16.8: float\nRL_16.99: float\nRL_17.19: float\nRL_17.38: float\nRL_17.58: float\nRL_17.77: float\nRL_17.97: float\nRL_18.16: float\nRL_18.36: float\nRL_18.55: float\nRL_18.75: float\nRL_18.95: float\nRL_19.14: float\nRL_19.34: float\nRL_19.53: float\nRL_19.73: float\nRL_19.92: float\nLP_0.59: float\nLP_0.78: float\nLP_0.98: float\nLP_1.17: float\nLP_1.37: float\nLP_1.56: float\nLP_1.76: float\nLP_1.95: float\nLP_2.15: float\nLP_2.34: float\nLP_2.54: float\nLP_2.73: float\nLP_2.93: float\nLP_3.13: float\nLP_3.32: float\nLP_3.52: float\nLP_3.71: float\nLP_3.91: float\nLP_4.1: float\nLP_4.3: float\nLP_4.49: float\nLP_4.69: float\nLP_4.88: float\nLP_5.08: float\nLP_5.27: float\nLP_5.47: float\nLP_5.66: float\nLP_5.86: float\nLP_6.05: float\nLP_6.25: float\nLP_6.45: float\nLP_6.64: float\nLP_6.84: float\nLP_7.03: float\nLP_7.23: float\nLP_7.42: float\nLP_7.62: float\nLP_7.81: float\nLP_8.01: float\nLP_8.2: float\nLP_8.4: float\nLP_8.59: float\nLP_8.79: float\nLP_8.98: float\nLP_9.18: float\nLP_9.38: float\nLP_9.57: float\nLP_9.77: float\nLP_9.96: float\nLP_10.16: float\nLP_10.35: float\nLP_10.55: float\nLP_10.74: float\nLP_10.94: float\nLP_11.13: float\nLP_11.33: float\nLP_11.52: float\nLP_11.72: float\nLP_11.91: float\nLP_12.11: float\nLP_12.3: float\nLP_12.5: float\nLP_12.7: float\nLP_12.89: float\nLP_13.09: float\nLP_13.28: float\nLP_13.48: float\nLP_13.67: float\nLP_13.87: float\nLP_14.06: float\nLP_14.26: float\nLP_14.45: float\nLP_14.65: float\nLP_14.84: float\nLP_15.04: float\nLP_15.23: float\nLP_15.43: float\nLP_15.63: float\nLP_15.82: float\nLP_16.02: float\nLP_16.21: float\nLP_16.41: float\nLP_16.6: float\nLP_16.8: float\nLP_16.99: float\nLP_17.19: float\nLP_17.38: float\nLP_17.58: float\nLP_17.77: float\nLP_17.97: float\nLP_18.16: float\nLP_18.36: float\nLP_18.55: float\nLP_18.75: float\nLP_18.95: float\nLP_19.14: float\nLP_19.34: float\nLP_19.53: float\nLP_19.73: float\nLP_19.92: float\nRP_0.59: float\nRP_0.78: float\nRP_0.98: float\nRP_1.17: float\nRP_1.37: float\nRP_1.56: float\nRP_1.76: float\nRP_1.95: float\nRP_2.15: float\nRP_2.34: float\nRP_2.54: float\nRP_2.73: float\nRP_2.93: float\nRP_3.13: float\nRP_3.32: float\nRP_3.52: float\nRP_3.71: float\nRP_3.91: float\nRP_4.1: float\nRP_4.3: float\nRP_4.49: float\nRP_4.69: float\nRP_4.88: float\nRP_5.08: float\nRP_5.27: float\nRP_5.47: float\nRP_5.66: float\nRP_5.86: float\nRP_6.05: float\nRP_6.25: float\nRP_6.45: float\nRP_6.64: float\nRP_6.84: float\nRP_7.03: float\nRP_7.23: float\nRP_7.42: float\nRP_7.62: float\nRP_7.81: float\nRP_8.01: float\nRP_8.2: float\nRP_8.4: float\nRP_8.59: float\nRP_8.79: float\nRP_8.98: float\nRP_9.18: float\nRP_9.38: float\nRP_9.57: float\nRP_9.77: float\nRP_9.96: float\nRP_10.16: float\nRP_10.35: float\nRP_10.55: float\nRP_10.74: float\nRP_10.94: float\nRP_11.13: float\nRP_11.33: float\nRP_11.52: float\nRP_11.72: float\nRP_11.91: float\nRP_12.11: float\nRP_12.3: float\nRP_12.5: float\nRP_12.7: float\nRP_12.89: float\nRP_13.09: float\nRP_13.28: float\nRP_13.48: float\nRP_13.67: float\nRP_13.87: float\nRP_14.06: float\nRP_14.26: float\nRP_14.45: float\nRP_14.65: float\nRP_14.84: float\nRP_15.04: float\nRP_15.23: float\nRP_15.43: float\nRP_15.63: float\nRP_15.82: float\nRP_16.02: float\nRP_16.21: float\nRP_16.41: float\nRP_16.6: float\nRP_16.8: float\nRP_16.99: float\nRP_17.19: float\nRP_17.38: float\nRP_17.58: float\nRP_17.77: float\nRP_17.97: float\nRP_18.16: float\nRP_18.36: float\nRP_18.55: float\nRP_18.75: float\nRP_18.95: float\nRP_19.14: float\nRP_19.34: float\nRP_19.53: float\nRP_19.73: float\nRP_19.92: float\n----\ntime: [[1,3,5,7,9,...,631,633,635,637,639]]\nLL_0.59: [[4.26,2.65,4.18,2.41,2.29,...,6.36,4.9,6.07,3.41,2.88]]\nLL_0.78: [[10.98,3.97,4.53,3.21,2.44,...,6.59,8.8,7.85,3.75,3.71]]\nLL_0.98: [[9.05,12.18,8.77,4.92,2.77,...,6.6,8.22,11.26,4.8,4.02]]\nLL_1.17: [[13.65,13.26,14.26,8.07,4.62,...,7.3,5.83,9.2,6.45,6.07]]\nLL_1.37: [[11.49,14.21,13.36,5.97,5.39,...,4.48,10.21,8.18,6.7,5.63]]\nLL_1.56: [[8.93,13.23,16.56,12.42,7.08,...,8.4,10.58,9.13,7.96,5.46]]\nLL_1.76: [[18.84,9.65,19.22,10.82,9.84,...,13.42,10.25,10.45,8.16,6.27]]\nLL_1.95: [[19.26,8.11,17.51,14.96,12.27,...,13.85,13.68,15.09,6.97,4.99]]\nLL_2.15: [[19.24,11.28,22.65,21.81,14.41,...,16.01,19.55,23.02,9.7,6.22]]\n..."
     },
     "execution_count": 18,
     "metadata": {},
     "output_type": "execute_result"
    }
   ],
   "source": [
    "sample_spec = pq.read_table('C:/Users/kakka/PycharmProjects/ProjectM/HMS-DL/train_spectrograms/353733.parquet')\n",
    "sample_spec"
   ],
   "metadata": {
    "collapsed": false,
    "ExecuteTime": {
     "end_time": "2024-02-19T01:18:58.005497300Z",
     "start_time": "2024-02-19T01:18:57.962364300Z"
    }
   },
   "id": "5e4e192e2ca8f36e"
  },
  {
   "cell_type": "code",
   "execution_count": 19,
   "outputs": [
    {
     "data": {
      "text/plain": "     time  LL_0.59  LL_0.78  LL_0.98  LL_1.17  LL_1.37    LL_1.56    LL_1.76  \\\n0       1     4.26    10.98     9.05    13.65    11.49   8.930000  18.840000   \n1       3     2.65     3.97    12.18    13.26    14.21  13.230000   9.650000   \n2       5     4.18     4.53     8.77    14.26    13.36  16.559999  19.219999   \n3       7     2.41     3.21     4.92     8.07     5.97  12.420000  10.820000   \n4       9     2.29     2.44     2.77     4.62     5.39   7.080000   9.840000   \n..    ...      ...      ...      ...      ...      ...        ...        ...   \n315   631     6.36     6.59     6.60     7.30     4.48   8.400000  13.420000   \n316   633     4.90     8.80     8.22     5.83    10.21  10.580000  10.250000   \n317   635     6.07     7.85    11.26     9.20     8.18   9.130000  10.450000   \n318   637     3.41     3.75     4.80     6.45     6.70   7.960000   8.160000   \n319   639     2.88     3.71     4.02     6.07     5.63   5.460000   6.270000   \n\n     LL_1.95    LL_2.15  ...  RP_18.16  RP_18.36  RP_18.55  RP_18.75  \\\n0      19.26  19.240000  ...      0.31      0.17      0.28      0.19   \n1       8.11  11.280000  ...      0.15      0.13      0.14      0.24   \n2      17.51  22.650000  ...      0.29      0.21      0.16      0.25   \n3      14.96  21.809999  ...      0.33      0.51      0.49      0.64   \n4      12.27  14.410000  ...      0.44      0.38      0.48      0.63   \n..       ...        ...  ...       ...       ...       ...       ...   \n315    13.85  16.010000  ...      0.14      0.05      0.06      0.04   \n316    13.68  19.549999  ...      0.16      0.08      0.06      0.06   \n317    15.09  23.020000  ...      0.15      0.13      0.13      0.13   \n318     6.97   9.700000  ...      0.13      0.11      0.13      0.07   \n319     4.99   6.220000  ...      0.16      0.13      0.14      0.16   \n\n     RP_18.95  RP_19.14  RP_19.34  RP_19.53  RP_19.73  RP_19.92  \n0        0.24      0.27      0.29      0.16      0.22      0.19  \n1        0.24      0.36      0.35      0.31      0.36      0.40  \n2        0.28      0.28      0.34      0.48      0.44      0.48  \n3        0.58      0.42      0.32      0.31      0.32      0.33  \n4        0.45      0.45      0.49      0.33      0.31      0.34  \n..        ...       ...       ...       ...       ...       ...  \n315      0.04      0.04      0.05      0.05      0.08      0.11  \n316      0.07      0.04      0.06      0.09      0.07      0.08  \n317      0.10      0.08      0.07      0.09      0.17      0.12  \n318      0.11      0.12      0.09      0.16      0.19      0.19  \n319      0.12      0.12      0.11      0.09      0.07      0.05  \n\n[320 rows x 401 columns]",
      "text/html": "<div>\n<style scoped>\n    .dataframe tbody tr th:only-of-type {\n        vertical-align: middle;\n    }\n\n    .dataframe tbody tr th {\n        vertical-align: top;\n    }\n\n    .dataframe thead th {\n        text-align: right;\n    }\n</style>\n<table border=\"1\" class=\"dataframe\">\n  <thead>\n    <tr style=\"text-align: right;\">\n      <th></th>\n      <th>time</th>\n      <th>LL_0.59</th>\n      <th>LL_0.78</th>\n      <th>LL_0.98</th>\n      <th>LL_1.17</th>\n      <th>LL_1.37</th>\n      <th>LL_1.56</th>\n      <th>LL_1.76</th>\n      <th>LL_1.95</th>\n      <th>LL_2.15</th>\n      <th>...</th>\n      <th>RP_18.16</th>\n      <th>RP_18.36</th>\n      <th>RP_18.55</th>\n      <th>RP_18.75</th>\n      <th>RP_18.95</th>\n      <th>RP_19.14</th>\n      <th>RP_19.34</th>\n      <th>RP_19.53</th>\n      <th>RP_19.73</th>\n      <th>RP_19.92</th>\n    </tr>\n  </thead>\n  <tbody>\n    <tr>\n      <th>0</th>\n      <td>1</td>\n      <td>4.26</td>\n      <td>10.98</td>\n      <td>9.05</td>\n      <td>13.65</td>\n      <td>11.49</td>\n      <td>8.930000</td>\n      <td>18.840000</td>\n      <td>19.26</td>\n      <td>19.240000</td>\n      <td>...</td>\n      <td>0.31</td>\n      <td>0.17</td>\n      <td>0.28</td>\n      <td>0.19</td>\n      <td>0.24</td>\n      <td>0.27</td>\n      <td>0.29</td>\n      <td>0.16</td>\n      <td>0.22</td>\n      <td>0.19</td>\n    </tr>\n    <tr>\n      <th>1</th>\n      <td>3</td>\n      <td>2.65</td>\n      <td>3.97</td>\n      <td>12.18</td>\n      <td>13.26</td>\n      <td>14.21</td>\n      <td>13.230000</td>\n      <td>9.650000</td>\n      <td>8.11</td>\n      <td>11.280000</td>\n      <td>...</td>\n      <td>0.15</td>\n      <td>0.13</td>\n      <td>0.14</td>\n      <td>0.24</td>\n      <td>0.24</td>\n      <td>0.36</td>\n      <td>0.35</td>\n      <td>0.31</td>\n      <td>0.36</td>\n      <td>0.40</td>\n    </tr>\n    <tr>\n      <th>2</th>\n      <td>5</td>\n      <td>4.18</td>\n      <td>4.53</td>\n      <td>8.77</td>\n      <td>14.26</td>\n      <td>13.36</td>\n      <td>16.559999</td>\n      <td>19.219999</td>\n      <td>17.51</td>\n      <td>22.650000</td>\n      <td>...</td>\n      <td>0.29</td>\n      <td>0.21</td>\n      <td>0.16</td>\n      <td>0.25</td>\n      <td>0.28</td>\n      <td>0.28</td>\n      <td>0.34</td>\n      <td>0.48</td>\n      <td>0.44</td>\n      <td>0.48</td>\n    </tr>\n    <tr>\n      <th>3</th>\n      <td>7</td>\n      <td>2.41</td>\n      <td>3.21</td>\n      <td>4.92</td>\n      <td>8.07</td>\n      <td>5.97</td>\n      <td>12.420000</td>\n      <td>10.820000</td>\n      <td>14.96</td>\n      <td>21.809999</td>\n      <td>...</td>\n      <td>0.33</td>\n      <td>0.51</td>\n      <td>0.49</td>\n      <td>0.64</td>\n      <td>0.58</td>\n      <td>0.42</td>\n      <td>0.32</td>\n      <td>0.31</td>\n      <td>0.32</td>\n      <td>0.33</td>\n    </tr>\n    <tr>\n      <th>4</th>\n      <td>9</td>\n      <td>2.29</td>\n      <td>2.44</td>\n      <td>2.77</td>\n      <td>4.62</td>\n      <td>5.39</td>\n      <td>7.080000</td>\n      <td>9.840000</td>\n      <td>12.27</td>\n      <td>14.410000</td>\n      <td>...</td>\n      <td>0.44</td>\n      <td>0.38</td>\n      <td>0.48</td>\n      <td>0.63</td>\n      <td>0.45</td>\n      <td>0.45</td>\n      <td>0.49</td>\n      <td>0.33</td>\n      <td>0.31</td>\n      <td>0.34</td>\n    </tr>\n    <tr>\n      <th>...</th>\n      <td>...</td>\n      <td>...</td>\n      <td>...</td>\n      <td>...</td>\n      <td>...</td>\n      <td>...</td>\n      <td>...</td>\n      <td>...</td>\n      <td>...</td>\n      <td>...</td>\n      <td>...</td>\n      <td>...</td>\n      <td>...</td>\n      <td>...</td>\n      <td>...</td>\n      <td>...</td>\n      <td>...</td>\n      <td>...</td>\n      <td>...</td>\n      <td>...</td>\n      <td>...</td>\n    </tr>\n    <tr>\n      <th>315</th>\n      <td>631</td>\n      <td>6.36</td>\n      <td>6.59</td>\n      <td>6.60</td>\n      <td>7.30</td>\n      <td>4.48</td>\n      <td>8.400000</td>\n      <td>13.420000</td>\n      <td>13.85</td>\n      <td>16.010000</td>\n      <td>...</td>\n      <td>0.14</td>\n      <td>0.05</td>\n      <td>0.06</td>\n      <td>0.04</td>\n      <td>0.04</td>\n      <td>0.04</td>\n      <td>0.05</td>\n      <td>0.05</td>\n      <td>0.08</td>\n      <td>0.11</td>\n    </tr>\n    <tr>\n      <th>316</th>\n      <td>633</td>\n      <td>4.90</td>\n      <td>8.80</td>\n      <td>8.22</td>\n      <td>5.83</td>\n      <td>10.21</td>\n      <td>10.580000</td>\n      <td>10.250000</td>\n      <td>13.68</td>\n      <td>19.549999</td>\n      <td>...</td>\n      <td>0.16</td>\n      <td>0.08</td>\n      <td>0.06</td>\n      <td>0.06</td>\n      <td>0.07</td>\n      <td>0.04</td>\n      <td>0.06</td>\n      <td>0.09</td>\n      <td>0.07</td>\n      <td>0.08</td>\n    </tr>\n    <tr>\n      <th>317</th>\n      <td>635</td>\n      <td>6.07</td>\n      <td>7.85</td>\n      <td>11.26</td>\n      <td>9.20</td>\n      <td>8.18</td>\n      <td>9.130000</td>\n      <td>10.450000</td>\n      <td>15.09</td>\n      <td>23.020000</td>\n      <td>...</td>\n      <td>0.15</td>\n      <td>0.13</td>\n      <td>0.13</td>\n      <td>0.13</td>\n      <td>0.10</td>\n      <td>0.08</td>\n      <td>0.07</td>\n      <td>0.09</td>\n      <td>0.17</td>\n      <td>0.12</td>\n    </tr>\n    <tr>\n      <th>318</th>\n      <td>637</td>\n      <td>3.41</td>\n      <td>3.75</td>\n      <td>4.80</td>\n      <td>6.45</td>\n      <td>6.70</td>\n      <td>7.960000</td>\n      <td>8.160000</td>\n      <td>6.97</td>\n      <td>9.700000</td>\n      <td>...</td>\n      <td>0.13</td>\n      <td>0.11</td>\n      <td>0.13</td>\n      <td>0.07</td>\n      <td>0.11</td>\n      <td>0.12</td>\n      <td>0.09</td>\n      <td>0.16</td>\n      <td>0.19</td>\n      <td>0.19</td>\n    </tr>\n    <tr>\n      <th>319</th>\n      <td>639</td>\n      <td>2.88</td>\n      <td>3.71</td>\n      <td>4.02</td>\n      <td>6.07</td>\n      <td>5.63</td>\n      <td>5.460000</td>\n      <td>6.270000</td>\n      <td>4.99</td>\n      <td>6.220000</td>\n      <td>...</td>\n      <td>0.16</td>\n      <td>0.13</td>\n      <td>0.14</td>\n      <td>0.16</td>\n      <td>0.12</td>\n      <td>0.12</td>\n      <td>0.11</td>\n      <td>0.09</td>\n      <td>0.07</td>\n      <td>0.05</td>\n    </tr>\n  </tbody>\n</table>\n<p>320 rows × 401 columns</p>\n</div>"
     },
     "execution_count": 19,
     "metadata": {},
     "output_type": "execute_result"
    }
   ],
   "source": [
    "sample_spec_df = sample_spec.to_pandas()\n",
    "sample_spec_df"
   ],
   "metadata": {
    "collapsed": false,
    "ExecuteTime": {
     "end_time": "2024-02-19T01:19:22.603758400Z",
     "start_time": "2024-02-19T01:19:22.547077900Z"
    }
   },
   "id": "26c6fc8b730f82d7"
  },
  {
   "cell_type": "code",
   "execution_count": 22,
   "outputs": [],
   "source": [
    "def sunkavalli(id,sub_id,offest_sec):\n",
    "    pq_table = pq.read_table('C:/Users/kakka/PycharmProjects/ProjectM/HMS-DL/train_eegs/'+str(id)+'.parquet')\n",
    "    pq_df = pq_table.to_pandas()\n",
    "    start_range = int((offest_sec)*200)\n",
    "    end_range = int((offest_sec+50)*200)\n",
    "    pq_df.iloc[start_range:end_range]\n",
    "    return pq_df.to_numpy()"
   ],
   "metadata": {
    "collapsed": false,
    "ExecuteTime": {
     "end_time": "2024-02-19T01:48:20.902266500Z",
     "start_time": "2024-02-19T01:48:20.877249400Z"
    }
   },
   "id": "88853d7a97e35b7d"
  },
  {
   "cell_type": "code",
   "execution_count": 23,
   "outputs": [],
   "source": [
    "sample = sunkavalli(1628180742,0,0.0)"
   ],
   "metadata": {
    "collapsed": false,
    "ExecuteTime": {
     "end_time": "2024-02-19T01:48:21.694122Z",
     "start_time": "2024-02-19T01:48:21.644860900Z"
    }
   },
   "id": "494f92b2c8cd71bf"
  },
  {
   "cell_type": "code",
   "execution_count": 27,
   "outputs": [
    {
     "name": "stdout",
     "output_type": "stream",
     "text": [
      "[[ -80.52  -70.54  -80.11 ... -121.73 -106.45    7.92]\n",
      " [ -80.45  -70.33  -81.76 ... -115.5  -102.06   29.22]\n",
      " [ -80.21  -75.87  -82.05 ... -123.88 -105.79   45.74]\n",
      " ...\n",
      " [-133.73 -141.77 -121.9  ... -106.5   -75.34   -2.06]\n",
      " [-141.45 -151.14 -127.19 ... -116.16  -81.41    2.82]\n",
      " [-138.67 -147.21 -122.82 ... -125.99  -89.11   35.28]]\n"
     ]
    }
   ],
   "source": [
    "print(sample)"
   ],
   "metadata": {
    "collapsed": false,
    "ExecuteTime": {
     "end_time": "2024-02-19T01:53:48.705039900Z",
     "start_time": "2024-02-19T01:53:48.666058800Z"
    }
   },
   "id": "3fa837e12927959"
  },
  {
   "cell_type": "code",
   "execution_count": 37,
   "outputs": [],
   "source": [
    "def kakka(id,sub_id,offest_sec):\n",
    "    pq_table = pq.read_table('C:/Users/kakka/PycharmProjects/ProjectM/HMS-DL/train_spectrograms/'+str(id)+'.parquet')\n",
    "    pq_df = pq_table.to_pandas()\n",
    "    options = np.arange(int(offest_sec)+1,int(offest_sec+10),2)\n",
    "    print(options)\n",
    "    pq_df = pq_df.loc[pq_df['time'].isin(options)]\n",
    "    return pq_df.to_numpy()"
   ],
   "metadata": {
    "collapsed": false,
    "ExecuteTime": {
     "end_time": "2024-02-19T01:55:27.111655800Z",
     "start_time": "2024-02-19T01:55:27.091646500Z"
    }
   },
   "id": "f4b6ca57bb95927b"
  },
  {
   "cell_type": "code",
   "execution_count": 38,
   "outputs": [
    {
     "name": "stdout",
     "output_type": "stream",
     "text": [
      "[1 3 5 7 9]\n"
     ]
    }
   ],
   "source": [
    "sample_spec = kakka(353733,0,0.0)"
   ],
   "metadata": {
    "collapsed": false,
    "ExecuteTime": {
     "end_time": "2024-02-19T01:55:27.880607900Z",
     "start_time": "2024-02-19T01:55:27.847439500Z"
    }
   },
   "id": "da69e22303ea4dc5"
  },
  {
   "cell_type": "code",
   "execution_count": 39,
   "outputs": [
    {
     "data": {
      "text/plain": "array([[ 1.        ,  4.26000023, 10.97999954, ...,  0.16      ,\n         0.22      ,  0.19      ],\n       [ 3.        ,  2.6500001 ,  3.97000003, ...,  0.31      ,\n         0.36000001,  0.40000001],\n       [ 5.        ,  4.17999983,  4.53000021, ...,  0.47999999,\n         0.44      ,  0.47999999],\n       [ 7.        ,  2.41000009,  3.21000004, ...,  0.31      ,\n         0.31999999,  0.33000001],\n       [ 9.        ,  2.28999996,  2.44000006, ...,  0.33000001,\n         0.31      ,  0.34      ]])"
     },
     "execution_count": 39,
     "metadata": {},
     "output_type": "execute_result"
    }
   ],
   "source": [
    "sample_spec"
   ],
   "metadata": {
    "collapsed": false,
    "ExecuteTime": {
     "end_time": "2024-02-19T01:55:36.425670600Z",
     "start_time": "2024-02-19T01:55:36.399726700Z"
    }
   },
   "id": "967f03ef4466bb44"
  },
  {
   "cell_type": "code",
   "execution_count": null,
   "outputs": [],
   "source": [],
   "metadata": {
    "collapsed": false
   },
   "id": "3f81d51e03ba2664"
  }
 ],
 "metadata": {
  "kernelspec": {
   "display_name": "Python 3",
   "language": "python",
   "name": "python3"
  },
  "language_info": {
   "codemirror_mode": {
    "name": "ipython",
    "version": 2
   },
   "file_extension": ".py",
   "mimetype": "text/x-python",
   "name": "python",
   "nbconvert_exporter": "python",
   "pygments_lexer": "ipython2",
   "version": "2.7.6"
  }
 },
 "nbformat": 4,
 "nbformat_minor": 5
}
